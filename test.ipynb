{
 "cells": [
  {
   "cell_type": "code",
   "execution_count": 1,
   "metadata": {},
   "outputs": [],
   "source": [
    "import torch\n",
    "import torch.nn as nn\n",
    "\n",
    "batch_size = 10\n",
    "\n",
    "# 模型输出，假设有3个类别\n",
    "predictions = torch.randn((batch_size, 3), requires_grad=True)\n",
    "\n",
    "# 实际标签，每一列代表一个类别\n",
    "labels = torch.randint(0, 2, size=(batch_size, 3)).float()\n",
    "\n",
    "# 初始化 BCELoss\n",
    "criterion = nn.BCELoss()\n",
    "\n",
    "# 计算损失\n",
    "loss = criterion(torch.sigmoid(predictions), labels)\n"
   ]
  }
 ],
 "metadata": {
  "kernelspec": {
   "display_name": "PYT_1",
   "language": "python",
   "name": "python3"
  },
  "language_info": {
   "codemirror_mode": {
    "name": "ipython",
    "version": 3
   },
   "file_extension": ".py",
   "mimetype": "text/x-python",
   "name": "python",
   "nbconvert_exporter": "python",
   "pygments_lexer": "ipython3",
   "version": "3.11.4"
  }
 },
 "nbformat": 4,
 "nbformat_minor": 2
}
